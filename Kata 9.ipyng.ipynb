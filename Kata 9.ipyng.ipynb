{
 "cells": [
  {
   "cell_type": "markdown",
   "metadata": {},
   "source": [
    "# Argumentos en funciones"
   ]
  },
  {
   "cell_type": "code",
   "execution_count": 7,
   "metadata": {},
   "outputs": [
    {
     "name": "stdout",
     "output_type": "stream",
     "text": [
      "Fuel Report:\n",
      "    Total Average: 78.33333333333333%\n",
      "    Main tank: 80%\n",
      "    External tank: 70%\n",
      "    hydrogen tank: 85%\n",
      "    \n",
      "Fuel Report:\n",
      "    Total Average: 78.0%\n",
      "    Main tank: 88%\n",
      "    External tank: 76%\n",
      "    Hydrogen tank: 70%\n",
      "    \n"
     ]
    }
   ],
   "source": [
    "def reporte(main_tank, external_tank, hydrogen_tank):\n",
    "    total_average = (main_tank + external_tank + hydrogen_tank) / 3\n",
    "    return f\"\"\"Fuel Report:\n",
    "    Total Average: {total_average}%\n",
    "    Main tank: {main_tank}%\n",
    "    External tank: {external_tank}%\n",
    "    hydrogen tank: {hydrogen_tank}%\n",
    "    \"\"\"\n",
    "print(reporte(80,70,85))\n",
    "\n",
    "def average(values):\n",
    "    total = sum(values)\n",
    "    number_of_items = len(values)\n",
    "    return total / number_of_items\n",
    "\n",
    "average([80,85,81])\n",
    "\n",
    "def reporte(main_tank, external_tank, hydrogen_tank):\n",
    "    return f\"\"\"Fuel Report:\n",
    "    Total Average: {average([main_tank, external_tank, hydrogen_tank])}%\n",
    "    Main tank: {main_tank}%\n",
    "    External tank: {external_tank}%\n",
    "    Hydrogen tank: {hydrogen_tank}%\n",
    "    \"\"\"\n",
    "    \n",
    "print(reporte(88, 76, 70))\n"
   ]
  },
  {
   "cell_type": "markdown",
   "metadata": {},
   "source": [
    "# Argumentos de palabras clave en funciones"
   ]
  },
  {
   "cell_type": "code",
   "execution_count": 33,
   "metadata": {},
   "outputs": [
    {
     "name": "stdout",
     "output_type": "stream",
     "text": [
      "\n",
      "    Mision de luna\n",
      "    Total tiempo de vuelo: 65 minutos\n",
      "    Total gasolina restante: 500000 galones\n",
      "    \n",
      "\n",
      "    Mision de Luna\n",
      "    Total tiempo de viaje: 76 minutes\n",
      "    Total gasolina restante: 500000\n",
      "    \n",
      "\n",
      "    Mision de Luna\n",
      "    Total tiempo de viaje: 74 minutos\n",
      "    Total gasolina restante: 500000\n",
      "    general tanke ----> 300000 galones restantes\n",
      "externo tanke ----> 200000 galones restantes\n",
      "\n"
     ]
    }
   ],
   "source": [
    "def informe_mision(hora_prelanzamiento, tiempo_vuelo, destino, tanque_externo, tanque_inerno):\n",
    "    return f\"\"\"\n",
    "    Mision de {destino}\n",
    "    Total tiempo de vuelo: {hora_prelanzamiento + tiempo_vuelo} minutos\n",
    "    Total gasolina restante: {tanque_externo + tanque_inerno} galones\n",
    "    \"\"\"\n",
    "print(informe_mision(14, 51, \"luna\", 200000, 300000))\n",
    "\n",
    "\n",
    "def reporte_mision(destino, *minutos, **gasolina_reserva):\n",
    "    return f\"\"\"\n",
    "    Mision de {destino}\n",
    "    Total tiempo de viaje: {sum(minutos)} minutes\n",
    "    Total gasolina restante: {sum(gasolina_reserva.values())}\n",
    "    \"\"\"\n",
    "\n",
    "print(reporte_mision(\"Luna\", 10, 15, 51, principal=300000, external=200000))\n",
    "\n",
    "\n",
    "def reporte_mision(destino, *minutos, **gasolina_reserva):\n",
    "    reporte_general = f\"\"\"\n",
    "    Mision de {destino}\n",
    "    Total tiempo de viaje: {sum(minutos)} minutos\n",
    "    Total gasolina restante: {sum(gasolina_reserva.values())}\n",
    "    \"\"\"\n",
    "    for nombre_tanke, galones, in gasolina_reserva.items():\n",
    "        reporte_general += f\"{nombre_tanke} tanke ----> {galones} galones restantes\\n\"\n",
    "    return reporte_general\n",
    "\n",
    "print(reporte_mision(\"Luna\",8, 11, 55, general=300000, externo=200000))"
   ]
  }
 ],
 "metadata": {
  "interpreter": {
   "hash": "c1fe6cabf4027fac50ff79277637d0e7fa6e3913de0fc00762d40278449decf3"
  },
  "kernelspec": {
   "display_name": "Python 3.10.2 64-bit",
   "language": "python",
   "name": "python3"
  },
  "language_info": {
   "codemirror_mode": {
    "name": "ipython",
    "version": 3
   },
   "file_extension": ".py",
   "mimetype": "text/x-python",
   "name": "python",
   "nbconvert_exporter": "python",
   "pygments_lexer": "ipython3",
   "version": "3.10.2"
  },
  "orig_nbformat": 4
 },
 "nbformat": 4,
 "nbformat_minor": 2
}
