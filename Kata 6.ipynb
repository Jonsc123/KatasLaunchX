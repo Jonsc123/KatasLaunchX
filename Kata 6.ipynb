{
 "cells": [
  {
   "cell_type": "markdown",
   "metadata": {},
   "source": [
    "# Lista de Planetas"
   ]
  },
  {
   "cell_type": "code",
   "execution_count": 7,
   "metadata": {},
   "outputs": [
    {
     "name": "stdout",
     "output_type": "stream",
     "text": [
      "hay 8 planetas\n",
      "Pluton es el ultimo planeta\n"
     ]
    }
   ],
   "source": [
    "planets = ['Mercury', 'Venus', 'Earth', 'Mars', 'Jupiter', 'Saturn', 'Uranus', 'Neptune']\n",
    "print(\"hay\", len(planets), \"planetas\")\n",
    "\n",
    "planets.append(\"Pluton\") \n",
    "print(planets[-1], \"es el ultimo planeta\")\n",
    "\n"
   ]
  },
  {
   "cell_type": "markdown",
   "metadata": {},
   "source": [
    "# Datos de una lista"
   ]
  },
  {
   "cell_type": "code",
   "execution_count": 1,
   "metadata": {},
   "outputs": [
    {
     "name": "stdout",
     "output_type": "stream",
     "text": [
      "Aqui estan los planetas mas cercanos a Uranus\n",
      "['Mercury', 'Venus', 'Earth', 'Mars', 'Jupiter', 'Saturn']\n",
      "Aqui estan los planetas mas lejanos a Uranus\n",
      "['Neptune']\n"
     ]
    }
   ],
   "source": [
    "planets = ['Mercury', 'Venus', 'Earth', 'Mars', 'Jupiter', 'Saturn', 'Uranus', 'Neptune']\n",
    "\n",
    "user_planet = input(\"Ingrese nombre del planeta (con letra mayuscula al inicio\")\n",
    "\n",
    "planets_index = planets.index(user_planet)\n",
    "\n",
    "print(\"Aqui estan los planetas mas cercanos a \" + user_planet)\n",
    "print(planets[0:planets_index])\n",
    "\n",
    "print(\"Aqui estan los planetas mas lejanos a \" + user_planet)\n",
    "print(planets[planets_index + 1:])"
   ]
  }
 ],
 "metadata": {
  "interpreter": {
   "hash": "c1fe6cabf4027fac50ff79277637d0e7fa6e3913de0fc00762d40278449decf3"
  },
  "kernelspec": {
   "display_name": "Python 3.10.2 64-bit",
   "language": "python",
   "name": "python3"
  },
  "language_info": {
   "codemirror_mode": {
    "name": "ipython",
    "version": 3
   },
   "file_extension": ".py",
   "mimetype": "text/x-python",
   "name": "python",
   "nbconvert_exporter": "python",
   "pygments_lexer": "ipython3",
   "version": "3.10.2"
  },
  "orig_nbformat": 4
 },
 "nbformat": 4,
 "nbformat_minor": 2
}
