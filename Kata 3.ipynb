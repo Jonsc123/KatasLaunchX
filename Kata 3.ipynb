{
 "cells": [
  {
   "cell_type": "markdown",
   "metadata": {},
   "source": [
    "# ¡Alerta de asteroide!"
   ]
  },
  {
   "cell_type": "code",
   "execution_count": 10,
   "metadata": {},
   "outputs": [
    {
     "name": "stdout",
     "output_type": "stream",
     "text": [
      "¡Alerta! ¡Un asteroide se acerca a velocidades peligrosas!\n"
     ]
    }
   ],
   "source": [
    "\n",
    "asteroide = 49\n",
    "    \n",
    "if asteroide > 25:\n",
    "     print(\"¡Alerta! ¡Un asteroide se acerca a velocidades peligrosas!\")\n",
    "    \n",
    "else:\n",
    "    print(\"¡Sigue con tu día!\")\n",
    "\n"
   ]
  },
  {
   "cell_type": "markdown",
   "metadata": {},
   "source": [
    "# ¡Luces en el cielo!"
   ]
  },
  {
   "cell_type": "code",
   "execution_count": 13,
   "metadata": {},
   "outputs": [
    {
     "name": "stdout",
     "output_type": "stream",
     "text": [
      "sigue tu dia normal\n"
     ]
    }
   ],
   "source": [
    "asteroide = 19\n",
    "\n",
    "if asteroide > 20:\n",
    "    print(\"¡Hay una luz mágica en el cielo!\")\n",
    "\n",
    "elif asteroide == 20:\n",
    "    print(\"¡Hay una luz mágica en el cielo!\")\n",
    "\n",
    "else:\n",
    "    print(\"¡Nada que ver aquí\")"
   ]
  },
  {
   "cell_type": "markdown",
   "metadata": {},
   "source": [
    "# !Sistema de advertencia!"
   ]
  },
  {
   "cell_type": "code",
   "execution_count": 1,
   "metadata": {},
   "outputs": [
    {
     "name": "stdout",
     "output_type": "stream",
     "text": [
      "¡Hay una luz mágica en el cielo!\n"
     ]
    }
   ],
   "source": [
    "asteroide_velocidad = 25\n",
    "asteroide_diametro = 40\n",
    "\n",
    "if asteroide_velocidad > 25 and asteroide_diametro > 25: \n",
    "    print(\"¡Alerta, Un asteroide muy peligroso viene hacia la Tierra!\")\n",
    "\n",
    "elif asteroide_velocidad >= 20:\n",
    "    print(\"¡Hay una luz mágica en el cielo!\")\n",
    "\n",
    "elif asteroide_diametro < 25:\n",
    "    print(\"Nada que ver aquí :)\")\n",
    "\n",
    "else:\n",
    "    print('Nada que ver aquí :)')"
   ]
  }
 ],
 "metadata": {
  "interpreter": {
   "hash": "c1fe6cabf4027fac50ff79277637d0e7fa6e3913de0fc00762d40278449decf3"
  },
  "kernelspec": {
   "display_name": "Python 3.10.2 64-bit",
   "language": "python",
   "name": "python3"
  },
  "language_info": {
   "codemirror_mode": {
    "name": "ipython",
    "version": 3
   },
   "file_extension": ".py",
   "mimetype": "text/x-python",
   "name": "python",
   "nbconvert_exporter": "python",
   "pygments_lexer": "ipython3",
   "version": "3.10.2"
  },
  "orig_nbformat": 4
 },
 "nbformat": 4,
 "nbformat_minor": 2
}
