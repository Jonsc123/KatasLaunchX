{
 "cells": [
  {
   "cell_type": "markdown",
   "metadata": {},
   "source": [
    "# Operadores aritméticos"
   ]
  },
  {
   "cell_type": "code",
   "execution_count": 1,
   "metadata": {},
   "outputs": [
    {
     "name": "stdout",
     "output_type": "stream",
     "text": [
      "628949330\n",
      "390577534\n"
     ]
    }
   ],
   "source": [
    "tierra = 149597870\n",
    "\n",
    "Jupiter = 778547200\n",
    "\n",
    "distancia_km = tierra - Jupiter\n",
    "print(round(abs(distancia_km)))\n",
    "\n",
    "distancia_mi = distancia_km * 0.621\n",
    "print(round(abs(distancia_mi)))\n",
    "\n"
   ]
  },
  {
   "cell_type": "markdown",
   "metadata": {},
   "source": [
    "# Cadenas en números "
   ]
  },
  {
   "cell_type": "code",
   "execution_count": 19,
   "metadata": {},
   "outputs": [
    {
     "name": "stdout",
     "output_type": "stream",
     "text": [
      "50300000\n",
      "31236300.0\n"
     ]
    }
   ],
   "source": [
    "primer_planeta = input(\"Introduzca la distancia del sol para el primer planeta en KM\") \n",
    "segundo_planeta = input(\"Introduzca la distancia desde el sol para el segundo planeta en KM\")\n",
    "\n",
    "primer_planeta = int(primer_planeta)\n",
    "segundo_planeta = int(segundo_planeta)\n",
    "\n",
    "distancia_km = segundo_planeta - primer_planeta\n",
    "print(distancia_km)\n",
    "\n",
    "distancia_mi = distancia_km * 0.621\n",
    "print(abs(distancia_mi))\n"
   ]
  }
 ],
 "metadata": {
  "interpreter": {
   "hash": "c1fe6cabf4027fac50ff79277637d0e7fa6e3913de0fc00762d40278449decf3"
  },
  "kernelspec": {
   "display_name": "Python 3.10.2 64-bit",
   "language": "python",
   "name": "python3"
  },
  "language_info": {
   "codemirror_mode": {
    "name": "ipython",
    "version": 3
   },
   "file_extension": ".py",
   "mimetype": "text/x-python",
   "name": "python",
   "nbconvert_exporter": "python",
   "pygments_lexer": "ipython3",
   "version": "3.10.2"
  },
  "orig_nbformat": 4
 },
 "nbformat": 4,
 "nbformat_minor": 2
}
